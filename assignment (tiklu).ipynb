{
 "cells": [
  {
   "cell_type": "markdown",
   "id": "8225d3df",
   "metadata": {},
   "source": [
    "# Telecom Churn Case Study Hackathon\n",
    "\n",
    "Predict churning customers for a Telecom company based on temporal behaviour\n",
    "\n",
    "**Author:** Venkata Kiran Kudupudi, Anirban Ganguly, Tirumalesh Yeligar\n",
    "\n",
    "## Problem Statement\n",
    "\n",
    "In the telecom industry, customers are able to choose from multiple service providers and actively switch from one operator to another. In this highly competitive market, the telecommunications industry experiences an average of 15-25% annual churn rate. Given the fact that it costs 5-10 times more to acquire a new customer than to retain an existing one, customer retention has now become even more important than customer acquisition.\n",
    "\n",
    "For many incumbent operators, retaining high profitable customers is the number one business goal. To reduce customer churn, telecom companies need to predict which customers are at high risk of churn. In this project, you will analyze customer-level data of a leading telecom firm, build predictive models to identify customers at high risk of churn.\n",
    "\n",
    "In this competition, your goal is to build a machine learning model that is able to predict churning customers based on the features provided for their usage.\n",
    "\n",
    "## Loading the required python libraries"
   ]
  },
  {
   "cell_type": "code",
   "execution_count": 1,
   "id": "a2e77865",
   "metadata": {},
   "outputs": [],
   "source": [
    "import pandas as pd\n",
    "import numpy as np\n",
    "\n",
    "import matplotlib.pyplot as plt\n",
    "import seaborn as sns\n",
    "\n",
    "import warnings\n",
    "warnings.filterwarnings('ignore')\n",
    "\n",
    "%matplotlib inline"
   ]
  },
  {
   "cell_type": "markdown",
   "id": "82a1b0bd",
   "metadata": {},
   "source": [
    "## Load the data and do initial exploration"
   ]
  },
  {
   "cell_type": "code",
   "execution_count": 3,
   "id": "bd74374c",
   "metadata": {},
   "outputs": [],
   "source": [
    "df_train = pd.read_csv('train.csv')\n",
    "df_test = pd.read_csv('test.csv')\n",
    "df_dd = pd.read_csv('data_dictionary.csv')\n",
    "df_sample = pd.read_csv('sample.csv')"
   ]
  },
  {
   "cell_type": "code",
   "execution_count": 4,
   "id": "7805d96d",
   "metadata": {},
   "outputs": [
    {
     "data": {
      "text/plain": [
       "(69999, 172)"
      ]
     },
     "execution_count": 4,
     "metadata": {},
     "output_type": "execute_result"
    }
   ],
   "source": [
    "df_train.shape"
   ]
  },
  {
   "cell_type": "code",
   "execution_count": 5,
   "id": "647c5f4f",
   "metadata": {},
   "outputs": [
    {
     "data": {
      "text/plain": [
       "(30000, 171)"
      ]
     },
     "execution_count": 5,
     "metadata": {},
     "output_type": "execute_result"
    }
   ],
   "source": [
    "df_test.shape"
   ]
  },
  {
   "cell_type": "code",
   "execution_count": 6,
   "id": "e288fa49",
   "metadata": {},
   "outputs": [
    {
     "data": {
      "text/plain": [
       "(30000, 2)"
      ]
     },
     "execution_count": 6,
     "metadata": {},
     "output_type": "execute_result"
    }
   ],
   "source": [
    "df_sample.shape"
   ]
  },
  {
   "cell_type": "code",
   "execution_count": 7,
   "id": "868c955c",
   "metadata": {},
   "outputs": [
    {
     "data": {
      "text/plain": [
       "(36, 2)"
      ]
     },
     "execution_count": 7,
     "metadata": {},
     "output_type": "execute_result"
    }
   ],
   "source": [
    "df_dd.shape"
   ]
  },
  {
   "cell_type": "code",
   "execution_count": 8,
   "id": "183e4e22",
   "metadata": {},
   "outputs": [
    {
     "data": {
      "text/html": [
       "<div>\n",
       "<style scoped>\n",
       "    .dataframe tbody tr th:only-of-type {\n",
       "        vertical-align: middle;\n",
       "    }\n",
       "\n",
       "    .dataframe tbody tr th {\n",
       "        vertical-align: top;\n",
       "    }\n",
       "\n",
       "    .dataframe thead th {\n",
       "        text-align: right;\n",
       "    }\n",
       "</style>\n",
       "<table border=\"1\" class=\"dataframe\">\n",
       "  <thead>\n",
       "    <tr style=\"text-align: right;\">\n",
       "      <th></th>\n",
       "      <th>Acronyms</th>\n",
       "      <th>Description</th>\n",
       "    </tr>\n",
       "  </thead>\n",
       "  <tbody>\n",
       "    <tr>\n",
       "      <th>0</th>\n",
       "      <td>CIRCLE_ID</td>\n",
       "      <td>Telecom circle area to which the customer belo...</td>\n",
       "    </tr>\n",
       "    <tr>\n",
       "      <th>1</th>\n",
       "      <td>LOC</td>\n",
       "      <td>Local calls  within same telecom circle</td>\n",
       "    </tr>\n",
       "    <tr>\n",
       "      <th>2</th>\n",
       "      <td>STD</td>\n",
       "      <td>STD calls  outside the calling circle</td>\n",
       "    </tr>\n",
       "    <tr>\n",
       "      <th>3</th>\n",
       "      <td>IC</td>\n",
       "      <td>Incoming calls</td>\n",
       "    </tr>\n",
       "    <tr>\n",
       "      <th>4</th>\n",
       "      <td>OG</td>\n",
       "      <td>Outgoing calls</td>\n",
       "    </tr>\n",
       "    <tr>\n",
       "      <th>5</th>\n",
       "      <td>T2T</td>\n",
       "      <td>Operator T to T ie within same operator mobile...</td>\n",
       "    </tr>\n",
       "    <tr>\n",
       "      <th>6</th>\n",
       "      <td>T2M</td>\n",
       "      <td>Operator T to other operator mobile</td>\n",
       "    </tr>\n",
       "    <tr>\n",
       "      <th>7</th>\n",
       "      <td>T2O</td>\n",
       "      <td>Operator T to other operator fixed line</td>\n",
       "    </tr>\n",
       "    <tr>\n",
       "      <th>8</th>\n",
       "      <td>T2F</td>\n",
       "      <td>Operator T to fixed lines of T</td>\n",
       "    </tr>\n",
       "    <tr>\n",
       "      <th>9</th>\n",
       "      <td>T2C</td>\n",
       "      <td>Operator T to its own call center</td>\n",
       "    </tr>\n",
       "    <tr>\n",
       "      <th>10</th>\n",
       "      <td>ARPU</td>\n",
       "      <td>Average revenue per user</td>\n",
       "    </tr>\n",
       "    <tr>\n",
       "      <th>11</th>\n",
       "      <td>MOU</td>\n",
       "      <td>Minutes of usage  voice calls</td>\n",
       "    </tr>\n",
       "    <tr>\n",
       "      <th>12</th>\n",
       "      <td>AON</td>\n",
       "      <td>Age on network  number of days the customer is...</td>\n",
       "    </tr>\n",
       "    <tr>\n",
       "      <th>13</th>\n",
       "      <td>ONNET</td>\n",
       "      <td>All kind of calls within the same operator net...</td>\n",
       "    </tr>\n",
       "    <tr>\n",
       "      <th>14</th>\n",
       "      <td>OFFNET</td>\n",
       "      <td>All kind of calls outside the operator T network</td>\n",
       "    </tr>\n",
       "    <tr>\n",
       "      <th>15</th>\n",
       "      <td>ROAM</td>\n",
       "      <td>Indicates that customer is in roaming zone dur...</td>\n",
       "    </tr>\n",
       "    <tr>\n",
       "      <th>16</th>\n",
       "      <td>SPL</td>\n",
       "      <td>Special calls</td>\n",
       "    </tr>\n",
       "    <tr>\n",
       "      <th>17</th>\n",
       "      <td>ISD</td>\n",
       "      <td>ISD calls</td>\n",
       "    </tr>\n",
       "    <tr>\n",
       "      <th>18</th>\n",
       "      <td>RECH</td>\n",
       "      <td>Recharge</td>\n",
       "    </tr>\n",
       "    <tr>\n",
       "      <th>19</th>\n",
       "      <td>NUM</td>\n",
       "      <td>Number</td>\n",
       "    </tr>\n",
       "    <tr>\n",
       "      <th>20</th>\n",
       "      <td>AMT</td>\n",
       "      <td>Amount in local currency</td>\n",
       "    </tr>\n",
       "    <tr>\n",
       "      <th>21</th>\n",
       "      <td>MAX</td>\n",
       "      <td>Maximum</td>\n",
       "    </tr>\n",
       "    <tr>\n",
       "      <th>22</th>\n",
       "      <td>DATA</td>\n",
       "      <td>Mobile internet</td>\n",
       "    </tr>\n",
       "    <tr>\n",
       "      <th>23</th>\n",
       "      <td>3G</td>\n",
       "      <td>G network</td>\n",
       "    </tr>\n",
       "    <tr>\n",
       "      <th>24</th>\n",
       "      <td>AV</td>\n",
       "      <td>Average</td>\n",
       "    </tr>\n",
       "    <tr>\n",
       "      <th>25</th>\n",
       "      <td>VOL</td>\n",
       "      <td>Mobile internet usage volume in MB</td>\n",
       "    </tr>\n",
       "    <tr>\n",
       "      <th>26</th>\n",
       "      <td>2G</td>\n",
       "      <td>G network</td>\n",
       "    </tr>\n",
       "    <tr>\n",
       "      <th>27</th>\n",
       "      <td>PCK</td>\n",
       "      <td>Prepaid service schemes called  PACKS</td>\n",
       "    </tr>\n",
       "    <tr>\n",
       "      <th>28</th>\n",
       "      <td>NIGHT</td>\n",
       "      <td>Scheme to use during specific night hours only</td>\n",
       "    </tr>\n",
       "    <tr>\n",
       "      <th>29</th>\n",
       "      <td>MONTHLY</td>\n",
       "      <td>Service schemes with validity equivalent to a ...</td>\n",
       "    </tr>\n",
       "    <tr>\n",
       "      <th>30</th>\n",
       "      <td>SACHET</td>\n",
       "      <td>Service schemes with validity smaller than a m...</td>\n",
       "    </tr>\n",
       "    <tr>\n",
       "      <th>31</th>\n",
       "      <td>*.6</td>\n",
       "      <td>KPI for the month of June</td>\n",
       "    </tr>\n",
       "    <tr>\n",
       "      <th>32</th>\n",
       "      <td>*.7</td>\n",
       "      <td>KPI for the month of July</td>\n",
       "    </tr>\n",
       "    <tr>\n",
       "      <th>33</th>\n",
       "      <td>*.8</td>\n",
       "      <td>KPI for the month of August</td>\n",
       "    </tr>\n",
       "    <tr>\n",
       "      <th>34</th>\n",
       "      <td>FB_USER</td>\n",
       "      <td>Service scheme to avail services of Facebook a...</td>\n",
       "    </tr>\n",
       "    <tr>\n",
       "      <th>35</th>\n",
       "      <td>VBC</td>\n",
       "      <td>Volume based cost  when no specific scheme is ...</td>\n",
       "    </tr>\n",
       "  </tbody>\n",
       "</table>\n",
       "</div>"
      ],
      "text/plain": [
       "       Acronyms                                        Description\n",
       "0     CIRCLE_ID  Telecom circle area to which the customer belo...\n",
       "1           LOC            Local calls  within same telecom circle\n",
       "2           STD              STD calls  outside the calling circle\n",
       "3            IC                                     Incoming calls\n",
       "4            OG                                     Outgoing calls\n",
       "5           T2T  Operator T to T ie within same operator mobile...\n",
       "6       T2M                    Operator T to other operator mobile\n",
       "7       T2O                Operator T to other operator fixed line\n",
       "8       T2F                         Operator T to fixed lines of T\n",
       "9       T2C                      Operator T to its own call center\n",
       "10     ARPU                               Average revenue per user\n",
       "11      MOU                          Minutes of usage  voice calls\n",
       "12      AON      Age on network  number of days the customer is...\n",
       "13     ONNET     All kind of calls within the same operator net...\n",
       "14   OFFNET       All kind of calls outside the operator T network\n",
       "15         ROAM  Indicates that customer is in roaming zone dur...\n",
       "16       SPL                                         Special calls\n",
       "17      ISD                                              ISD calls\n",
       "18     RECH                                               Recharge\n",
       "19      NUM                                                 Number\n",
       "20      AMT                               Amount in local currency\n",
       "21      MAX                                                Maximum\n",
       "22     DATA                                        Mobile internet\n",
       "23       3G                                              G network\n",
       "24       AV                                                Average\n",
       "25      VOL                     Mobile internet usage volume in MB\n",
       "26       2G                                              G network\n",
       "27      PCK                  Prepaid service schemes called  PACKS\n",
       "28    NIGHT         Scheme to use during specific night hours only\n",
       "29  MONTHLY      Service schemes with validity equivalent to a ...\n",
       "30    SACHET     Service schemes with validity smaller than a m...\n",
       "31      *.6                              KPI for the month of June\n",
       "32      *.7                              KPI for the month of July\n",
       "33      *.8                            KPI for the month of August\n",
       "34      FB_USER  Service scheme to avail services of Facebook a...\n",
       "35      VBC      Volume based cost  when no specific scheme is ..."
      ]
     },
     "execution_count": 8,
     "metadata": {},
     "output_type": "execute_result"
    }
   ],
   "source": [
    "df_dd"
   ]
  },
  {
   "cell_type": "code",
   "execution_count": null,
   "id": "3cd73aa8",
   "metadata": {},
   "outputs": [],
   "source": []
  }
 ],
 "metadata": {
  "kernelspec": {
   "display_name": "Python 3 (ipykernel)",
   "language": "python",
   "name": "python3"
  },
  "language_info": {
   "codemirror_mode": {
    "name": "ipython",
    "version": 3
   },
   "file_extension": ".py",
   "mimetype": "text/x-python",
   "name": "python",
   "nbconvert_exporter": "python",
   "pygments_lexer": "ipython3",
   "version": "3.11.8"
  }
 },
 "nbformat": 4,
 "nbformat_minor": 5
}
